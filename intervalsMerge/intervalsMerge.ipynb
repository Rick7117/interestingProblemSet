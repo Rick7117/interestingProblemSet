{
 "cells": [
  {
   "cell_type": "markdown",
   "metadata": {},
   "source": [
    "## 合并区间\n",
    "\n",
    "### 问题来源\n",
    "leetcode 56. 合并区间\n",
    "合并区间是一个常见的编程问题，通常涉及到一组区间，你需要将重叠的区间合并成更大的区间。这篇博客将介绍这个问题的背景，然后解释一个高效的解决方案，同时分析实现代码的细节。\n",
    "\n",
    "### 问题描述\n",
    "给定一组区间，每个区间用 [start, end] 表示，其中 start 和 end 分别代表区间的起始和结束。任务是合并所有重叠的区间，并返回一个不重叠的区间数组，这个数组需要覆盖输入中的所有区间。"
   ]
  },
  {
   "cell_type": "markdown",
   "metadata": {},
   "source": [
    "### 示例1\n",
    "\n",
    "输入：intervals = [[1,3],[2,6],[8,10],[15,18]]\n",
    "\n",
    "输出：[[1,6],[8,10],[15,18]]\n",
    "\n",
    "解释：区间 [1,3] 和 [2,6] 重叠, 将它们合并为 [1,6]."
   ]
  },
  {
   "cell_type": "markdown",
   "metadata": {},
   "source": [
    "### 示例2\n",
    "\n",
    "输入：intervals = [[1,4],[4,5]]\n",
    "\n",
    "输出：[[1,5]]\n",
    "\n",
    "解释：区间 [1,4] 和 [4,5] 可被视为重叠区间。\n"
   ]
  },
  {
   "cell_type": "markdown",
   "metadata": {},
   "source": [
    "### 解决思路\n",
    "这个问题的解决思路涉及到对区间的排序和遍历。下面是一个高效的解决方法：\n",
    "\n",
    "1. 首先，我们需要对输入的区间进行排序，以确保相邻的区间在数组中是相邻的。这样，我们可以在遍历数组时更容易地合并重叠的区间。\n",
    "\n",
    "2. 排序后，我们可以创建一个结果数组 result，用于存储合并后的区间。\n",
    "\n",
    "3. 然后，我们遍历排序后的区间数组。对于每个区间 interval，我们检查它是否与结果数组的最后一个区间重叠（根据其起始值和结束值）。如果重叠，我们更新结果数组的最后一个区间的结束值，以确保包含当前区间。如果当前区间与结果数组的最后一个区间不重叠，我们将当前区间直接添加到结果数组中。\n",
    "\n",
    "最终，result 数组中的所有区间都是不重叠的，并且覆盖了输入中的所有区间。\n"
   ]
  },
  {
   "cell_type": "code",
   "execution_count": null,
   "metadata": {},
   "outputs": [],
   "source": [
    "class Solution:\n",
    "    def merge(self, intervals: List[List[int]]) -> List[List[int]]:\n",
    "        # 对区间按照起始值进行排序\n",
    "        intervals.sort(key = lambda x: x[0])\n",
    "\n",
    "        result = []\n",
    "        for interval in intervals:\n",
    "            if result and result[-1][1] >= interval[0]:\n",
    "                # 如果当前区间与结果数组的最后一个区间重叠\n",
    "                # 则更新结果数组的最后一个区间的结束值\n",
    "                if result[-1][1] < interval[1]:\n",
    "                    result[-1][1] = interval[1]\n",
    "            else:\n",
    "                # 如果不重叠，则将当前区间添加到结果数组中\n",
    "                result.append(interval)\n",
    "        \n",
    "        return result"
   ]
  }
 ],
 "metadata": {
  "language_info": {
   "name": "python"
  }
 },
 "nbformat": 4,
 "nbformat_minor": 2
}
