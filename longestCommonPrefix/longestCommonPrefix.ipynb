{
 "cells": [
  {
   "cell_type": "markdown",
   "metadata": {},
   "source": [
    "# 最长公共前缀\n",
    "\n",
    "## 1. 题目描述\n",
    "\n",
    "编写一个函数来查找字符串数组中的最长公共前缀。\n",
    "\n",
    "如果不存在公共前缀，返回空字符串 \"\"。\n",
    "\n",
    "## 2. 示例\n",
    "\n",
    "```\n",
    "输入: [\"flower\",\"flow\",\"flight\"]\n",
    "输出: \"fl\"\n",
    "```\n",
    "\n",
    "```\n",
    "输入: [\"dog\",\"racecar\",\"car\"]\n",
    "输出: \"\"\n",
    "解释: 输入不存在公共前缀。\n",
    "```\n",
    "\n",
    "## 3. 说明\n",
    "\n",
    "- 1 <= strs.length <= 200\n",
    "- 0 <= strs[i].length <= 200\n",
    "- strs[i] 仅由小写英文字母组成"
   ]
  },
  {
   "cell_type": "markdown",
   "metadata": {},
   "source": [
    "## 横向扫描"
   ]
  },
  {
   "cell_type": "code",
   "execution_count": 3,
   "metadata": {},
   "outputs": [
    {
     "name": "stdout",
     "output_type": "stream",
     "text": [
      "fl\n"
     ]
    }
   ],
   "source": [
    "def lcp(str1, str2):\n",
    "    length, index = min(len(str1), len(str2)), 0\n",
    "    while (index < length and str1[index] == str2[index]):\n",
    "        index += 1\n",
    "    return str1[:index]\n",
    "\n",
    "def longestCommonPrefix(strs):\n",
    "    if not strs:\n",
    "        return \"\"\n",
    "    \n",
    "    prefix, count = strs[0], len(strs)\n",
    "    for i in range(1, count):\n",
    "        prefix = lcp(prefix, strs[i])\n",
    "        if prefix == \"\":\n",
    "            return \"\"\n",
    "    \n",
    "    return prefix\n",
    "\n",
    "\n",
    "print(longestCommonPrefix([\"flower\",\"flow\",\"flight\"]))"
   ]
  },
  {
   "cell_type": "markdown",
   "metadata": {},
   "source": [
    "## 纵向扫描"
   ]
  },
  {
   "cell_type": "code",
   "execution_count": 4,
   "metadata": {},
   "outputs": [
    {
     "name": "stdout",
     "output_type": "stream",
     "text": [
      "fl\n"
     ]
    }
   ],
   "source": [
    "def longestCommonPrefix(strs):\n",
    "    lens = [len(s) for s in strs]\n",
    "    min_len = min(lens)\n",
    "    lcp = \"\"\n",
    "    for i in range(min_len):\n",
    "        letter = strs[0][i]\n",
    "        flag = True\n",
    "        for j in range(1, len(strs)):\n",
    "            if strs[j][i] != letter:\n",
    "                flag = False\n",
    "                break\n",
    "        if flag:\n",
    "            lcp += letter\n",
    "        else:\n",
    "            break\n",
    "    return lcp\n",
    "\n",
    "print(longestCommonPrefix([\"flower\",\"flow\",\"flight\"]))"
   ]
  },
  {
   "cell_type": "code",
   "execution_count": null,
   "metadata": {},
   "outputs": [],
   "source": [
    "## another verson\n",
    "class Solution:\n",
    "    def longestCommonPrefix(self, strs: List[str]) -> str:\n",
    "        if not strs:\n",
    "            return \"\"\n",
    "        \n",
    "        length, count = len(strs[0]), len(strs)\n",
    "        for i in range(length):\n",
    "            c = strs[0][i]\n",
    "            if any(i == len(strs[j]) or strs[j][i] != c for j in range(1, count)):\n",
    "                return strs[0][:i]\n",
    "        \n",
    "        return strs[0]"
   ]
  },
  {
   "cell_type": "code",
   "execution_count": 7,
   "metadata": {},
   "outputs": [
    {
     "data": {
      "text/plain": [
       "True"
      ]
     },
     "execution_count": 7,
     "metadata": {},
     "output_type": "execute_result"
    }
   ],
   "source": []
  }
 ],
 "metadata": {
  "kernelspec": {
   "display_name": "Python 3",
   "language": "python",
   "name": "python3"
  },
  "language_info": {
   "codemirror_mode": {
    "name": "ipython",
    "version": 3
   },
   "file_extension": ".py",
   "mimetype": "text/x-python",
   "name": "python",
   "nbconvert_exporter": "python",
   "pygments_lexer": "ipython3",
   "version": "3.11.3"
  }
 },
 "nbformat": 4,
 "nbformat_minor": 2
}
